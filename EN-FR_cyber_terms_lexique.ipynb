{
 "cells": [
  {
   "cell_type": "markdown",
   "id": "8566d42b-5efb-4b3b-84d7-f77911265f86",
   "metadata": {},
   "source": [
    "<h1><center>English-French Cybersecurity Terms / Lexique français-anglais de cybersécurité</center></h1>"
   ]
  },
  {
   "cell_type": "markdown",
   "id": "c7226669-1d5a-4aa9-80ed-263586538858",
   "metadata": {},
   "source": [
    "<p><center><a href=\"https://github.com/celsol-fuentes\">\n",
    "<img src=\"img/Github_black.png\" width=\"50\" height=\"25\"> </a>\n",
    "    <strong>Celia Fuentes</strong><a href=\"https://www.linkedin.com/in/celia-sol-fuentes\">\n",
    "<img src=\"img/LinkedIN.png\" width=\"50\" height=\"25\">\n",
    "</a><center></p>"
   ]
  },
  {
   "cell_type": "markdown",
   "id": "99bfb4fa-368d-466b-88c8-4f868d81d642",
   "metadata": {},
   "source": [
    "<center><img src=\"img/cyber_terms_vocab.png\" width=\"400\" height=\"200\"></center>"
   ]
  },
  {
   "cell_type": "markdown",
   "id": "5180927d",
   "metadata": {},
   "source": [
    "<h2><strong>In this workbook</strong></h2>"
   ]
  },
  {
   "cell_type": "markdown",
   "id": "0b6b78a0-1a3a-4b92-95f6-3a8817834e4a",
   "metadata": {},
   "source": [
    "<h3><strong>In English</strong></h3>"
   ]
  },
  {
   "cell_type": "markdown",
   "id": "4e75cfe3-9daf-41ae-b8f6-c2baf8f80bc5",
   "metadata": {},
   "source": [
    "- Do you need to improve your Québécois French cybersecurity vocabulary?\n",
    "- Code\n",
    "- Read EN-FR spreadsheet into dataframe\n",
    "- EN-FR Cybersecurity Terms\n",
    "- Dataframe in English alphabetical order\n",
    "- Example search for \"access rights\""
   ]
  },
  {
   "cell_type": "markdown",
   "id": "a86d94ff-2728-4829-8a09-0c9347e273d6",
   "metadata": {},
   "source": [
    "<h3><strong>En français</strong></h3>"
   ]
  },
  {
   "cell_type": "markdown",
   "id": "0ea7dd95-12d4-4eab-b8a7-8bd2189457c4",
   "metadata": {},
   "source": [
    "- Avez-vous besoin d'un coup de pouce pour améliorer votre vocabulaire en cybersécurité ?\n",
    "- Code\n",
    "- Lire le tableur FR-EN dans un dataframe\n",
    "- Lexique FR-EN de cybersécurité en format\n",
    "- Le *dataframe* en ordre alphabétique en français\n",
    "- Exemple d'une recherche pour \"nom d'utilisateur\""
   ]
  },
  {
   "cell_type": "markdown",
   "id": "d6d3cf22-2861-490b-a89a-8ed83a23076e",
   "metadata": {},
   "source": [
    "<h3><strong>References / Références </strong></h3>"
   ]
  },
  {
   "cell_type": "markdown",
   "id": "4465551e-bc92-4a2c-875b-665bcc1da141",
   "metadata": {},
   "source": [
    "- Office québécois de la langue français\n",
    "- Canadian Centre for Cyber Security\n",
    "- Termium\n",
    "- ISACA\n",
    "- IBM\n",
    "- ENISA\n",
    "- OTAN / NATO\n",
    "- NIST"
   ]
  },
  {
   "cell_type": "markdown",
   "id": "d7b6366d-b270-4c28-8726-87403de6bc0b",
   "metadata": {},
   "source": [
    "<h2><strong>In English</strong></h2>"
   ]
  },
  {
   "cell_type": "markdown",
   "id": "bbcfdb33-6c33-4470-a944-5286a4ec6f27",
   "metadata": {},
   "source": [
    "<h3>Do you need to improve your Québécois French cybersecurity vocabulary?</h3>"
   ]
  },
  {
   "cell_type": "markdown",
   "id": "b7a1eb97-8778-4343-a65e-722f0ba2f705",
   "metadata": {},
   "source": [
    "I thought I’d share a compilation of almost 345 entry-level cybersecurity terms with their French translation.\n",
    "\n",
    "The “References / Références” section includes resources I consulted while researching cyber terms in French. Please share any additional resources not listed there.\n",
    "\n",
    "The .xls, .pdf and .ipynb files are available at https://github.com/celsol-fuentes/EN-FR_cyber_terms_lexique.  \n",
    "\n",
    "Feel free to fork this repository, add terms or even languages!"
   ]
  },
  {
   "cell_type": "markdown",
   "id": "123aa064-ec70-47a7-8e7b-d4e4f786b1ec",
   "metadata": {},
   "source": [
    "<h3>Code</h3>"
   ]
  },
  {
   "cell_type": "code",
   "execution_count": 1,
   "id": "e5a2e92d-0dab-40fd-92c9-661a5b4576cc",
   "metadata": {},
   "outputs": [],
   "source": [
    "import pandas as pd"
   ]
  },
  {
   "cell_type": "code",
   "execution_count": 2,
   "id": "e1e306d4-4f90-419c-85ee-5fd87f651cf1",
   "metadata": {},
   "outputs": [],
   "source": [
    "# Read EN-FR spreadsheet into dataframe\n",
    "EN_FR_cyber_terms = pd.read_excel(\"EN-FR_cyber_terms.xlsx\",\n",
    "                                  dtype={\"EN\":str, \"FR\": str})"
   ]
  },
  {
   "cell_type": "markdown",
   "id": "14d3d6cf-c4c3-4b0e-bf5b-3c55820e166f",
   "metadata": {},
   "source": [
    "<h3>EN-FR Cybersecurity Terms</h3>"
   ]
  },
  {
   "cell_type": "code",
   "execution_count": 3,
   "id": "23e7c826-2c05-475a-b2f1-678ac3edcb16",
   "metadata": {},
   "outputs": [
    {
     "data": {
      "text/html": [
       "<div>\n",
       "<style scoped>\n",
       "    .dataframe tbody tr th:only-of-type {\n",
       "        vertical-align: middle;\n",
       "    }\n",
       "\n",
       "    .dataframe tbody tr th {\n",
       "        vertical-align: top;\n",
       "    }\n",
       "\n",
       "    .dataframe thead th {\n",
       "        text-align: right;\n",
       "    }\n",
       "</style>\n",
       "<table border=\"1\" class=\"dataframe\">\n",
       "  <thead>\n",
       "    <tr style=\"text-align: right;\">\n",
       "      <th></th>\n",
       "      <th>EN</th>\n",
       "      <th>FR</th>\n",
       "    </tr>\n",
       "  </thead>\n",
       "  <tbody>\n",
       "    <tr>\n",
       "      <th>0</th>\n",
       "      <td>acceptable use policy (AUP)</td>\n",
       "      <td>politique d'utilisation acceptable</td>\n",
       "    </tr>\n",
       "    <tr>\n",
       "      <th>1</th>\n",
       "      <td>access control</td>\n",
       "      <td>contrôle d'accès</td>\n",
       "    </tr>\n",
       "    <tr>\n",
       "      <th>2</th>\n",
       "      <td>access control list (ACL)</td>\n",
       "      <td>liste de droits d'accès</td>\n",
       "    </tr>\n",
       "    <tr>\n",
       "      <th>3</th>\n",
       "      <td>access rights</td>\n",
       "      <td>droits d'accès</td>\n",
       "    </tr>\n",
       "    <tr>\n",
       "      <th>4</th>\n",
       "      <td>administrative controls</td>\n",
       "      <td>contrôle administratif</td>\n",
       "    </tr>\n",
       "    <tr>\n",
       "      <th>...</th>\n",
       "      <td>...</td>\n",
       "      <td>...</td>\n",
       "    </tr>\n",
       "    <tr>\n",
       "      <th>339</th>\n",
       "      <td>write blocker</td>\n",
       "      <td>bloqueur d'écriture</td>\n",
       "    </tr>\n",
       "    <tr>\n",
       "      <th>340</th>\n",
       "      <td>zero day</td>\n",
       "      <td>jour zéro</td>\n",
       "    </tr>\n",
       "    <tr>\n",
       "      <th>341</th>\n",
       "      <td>zero-day exploit</td>\n",
       "      <td>exploitation du jour zéro</td>\n",
       "    </tr>\n",
       "    <tr>\n",
       "      <th>342</th>\n",
       "      <td>zero-day security vulnerability</td>\n",
       "      <td>vulnérabilité du jour zéro</td>\n",
       "    </tr>\n",
       "    <tr>\n",
       "      <th>343</th>\n",
       "      <td>zero-trust model</td>\n",
       "      <td>modèle à vérification systématique</td>\n",
       "    </tr>\n",
       "  </tbody>\n",
       "</table>\n",
       "<p>344 rows × 2 columns</p>\n",
       "</div>"
      ],
      "text/plain": [
       "                                  EN                                  FR\n",
       "0        acceptable use policy (AUP)  politique d'utilisation acceptable\n",
       "1                     access control                    contrôle d'accès\n",
       "2          access control list (ACL)             liste de droits d'accès\n",
       "3                      access rights                      droits d'accès\n",
       "4            administrative controls              contrôle administratif\n",
       "..                               ...                                 ...\n",
       "339                    write blocker                 bloqueur d'écriture\n",
       "340                         zero day                           jour zéro\n",
       "341                 zero-day exploit           exploitation du jour zéro\n",
       "342  zero-day security vulnerability          vulnérabilité du jour zéro\n",
       "343                 zero-trust model  modèle à vérification systématique\n",
       "\n",
       "[344 rows x 2 columns]"
      ]
     },
     "execution_count": 3,
     "metadata": {},
     "output_type": "execute_result"
    }
   ],
   "source": [
    "# Dataframe in English alphabetical order\n",
    "EN_FR_cyber_terms"
   ]
  },
  {
   "cell_type": "markdown",
   "id": "bc82459e-7d38-49a5-acbb-1bfee7a5cd43",
   "metadata": {},
   "source": [
    "<h3>Example search for \"access rights\"</h3>"
   ]
  },
  {
   "cell_type": "code",
   "execution_count": 4,
   "id": "3800d93f-68c1-4173-b3f6-ac65f0b2eab4",
   "metadata": {},
   "outputs": [
    {
     "data": {
      "text/html": [
       "<div>\n",
       "<style scoped>\n",
       "    .dataframe tbody tr th:only-of-type {\n",
       "        vertical-align: middle;\n",
       "    }\n",
       "\n",
       "    .dataframe tbody tr th {\n",
       "        vertical-align: top;\n",
       "    }\n",
       "\n",
       "    .dataframe thead th {\n",
       "        text-align: right;\n",
       "    }\n",
       "</style>\n",
       "<table border=\"1\" class=\"dataframe\">\n",
       "  <thead>\n",
       "    <tr style=\"text-align: right;\">\n",
       "      <th></th>\n",
       "      <th>EN</th>\n",
       "      <th>FR</th>\n",
       "    </tr>\n",
       "  </thead>\n",
       "  <tbody>\n",
       "    <tr>\n",
       "      <th>341</th>\n",
       "      <td>zero-day exploit</td>\n",
       "      <td>exploitation du jour zéro</td>\n",
       "    </tr>\n",
       "  </tbody>\n",
       "</table>\n",
       "</div>"
      ],
      "text/plain": [
       "                   EN                         FR\n",
       "341  zero-day exploit  exploitation du jour zéro"
      ]
     },
     "execution_count": 4,
     "metadata": {},
     "output_type": "execute_result"
    }
   ],
   "source": [
    "# Search the desired terms by inserting it in quotes on the right\n",
    "EN_FR_cyber_terms.loc[EN_FR_cyber_terms[\"EN\"] == \"zero-day exploit\"]"
   ]
  },
  {
   "cell_type": "markdown",
   "id": "0dbad919-3adf-482a-838c-5d5ba199b502",
   "metadata": {},
   "source": [
    "<h2><strong>En français</strong></h2>"
   ]
  },
  {
   "cell_type": "markdown",
   "id": "d51d1741-6478-401b-961c-d491caa9b551",
   "metadata": {},
   "source": [
    "<h3>Avez-vous besoin d'un coup de pouce pour améliorer votre vocabulaire en cybersécurité ?</h3>"
   ]
  },
  {
   "cell_type": "markdown",
   "id": "2364d940",
   "metadata": {
    "jp-MarkdownHeadingCollapsed": true
   },
   "source": [
    "J’aimerais partager une ressource que j’ai créée. Il s’agit d’une compilation d’environ 345 termes de base provenant du domaine de la cybersécurité, avec leur traduction en anglais.\n",
    "\n",
    "Dans la section “References / Références\", je fournis les ressources linguistiques consultées lors de ma recherche. N’hésitez pas à partager vos ressources qui n’y figurent pas. \n",
    "\n",
    "Les fichiers .xls, .pdf et .ipynb sont disponibles sur la page Github  https://github.com/celsol-fuentes/EN-FR_cyber_terms_lexique.\n",
    "\n",
    "Dupliquer le dépôt, ajouter des termes ou même des langues !"
   ]
  },
  {
   "cell_type": "markdown",
   "id": "c691f49a",
   "metadata": {},
   "source": [
    "<h3>Code</h3>"
   ]
  },
  {
   "cell_type": "code",
   "execution_count": 5,
   "id": "14d9a320",
   "metadata": {},
   "outputs": [],
   "source": [
    "import pandas as pd"
   ]
  },
  {
   "cell_type": "code",
   "execution_count": 6,
   "id": "a4cdd85e",
   "metadata": {},
   "outputs": [],
   "source": [
    "# Lire le tableur FR-EN dans un dataframe\n",
    "FR_EN_lexique_cyber = pd.read_excel(\"FR-EN_lexique_cyber.xlsx\",\n",
    "                                        dtype={\"FR\":str, \"EN\": str})"
   ]
  },
  {
   "cell_type": "markdown",
   "id": "874337c3",
   "metadata": {},
   "source": [
    "<h3>Lexique FR-EN de cybersécurité</h3>"
   ]
  },
  {
   "cell_type": "code",
   "execution_count": 7,
   "id": "45e5180d",
   "metadata": {},
   "outputs": [
    {
     "data": {
      "text/html": [
       "<div>\n",
       "<style scoped>\n",
       "    .dataframe tbody tr th:only-of-type {\n",
       "        vertical-align: middle;\n",
       "    }\n",
       "\n",
       "    .dataframe tbody tr th {\n",
       "        vertical-align: top;\n",
       "    }\n",
       "\n",
       "    .dataframe thead th {\n",
       "        text-align: right;\n",
       "    }\n",
       "</style>\n",
       "<table border=\"1\" class=\"dataframe\">\n",
       "  <thead>\n",
       "    <tr style=\"text-align: right;\">\n",
       "      <th></th>\n",
       "      <th>FR</th>\n",
       "      <th>EN</th>\n",
       "    </tr>\n",
       "  </thead>\n",
       "  <tbody>\n",
       "    <tr>\n",
       "      <th>0</th>\n",
       "      <td>acceptation du risque</td>\n",
       "      <td>risk acceptance</td>\n",
       "    </tr>\n",
       "    <tr>\n",
       "      <th>1</th>\n",
       "      <td>accès aux identifiants</td>\n",
       "      <td>credential access</td>\n",
       "    </tr>\n",
       "    <tr>\n",
       "      <th>2</th>\n",
       "      <td>accès initial</td>\n",
       "      <td>initial access</td>\n",
       "    </tr>\n",
       "    <tr>\n",
       "      <th>3</th>\n",
       "      <td>actif</td>\n",
       "      <td>asset</td>\n",
       "    </tr>\n",
       "    <tr>\n",
       "      <th>4</th>\n",
       "      <td>adresse IP</td>\n",
       "      <td>Internet Protocol (IP) address</td>\n",
       "    </tr>\n",
       "    <tr>\n",
       "      <th>...</th>\n",
       "      <td>...</td>\n",
       "      <td>...</td>\n",
       "    </tr>\n",
       "    <tr>\n",
       "      <th>339</th>\n",
       "      <td>vulnérabilité logicielle</td>\n",
       "      <td>software vulnerability</td>\n",
       "    </tr>\n",
       "    <tr>\n",
       "      <th>340</th>\n",
       "      <td>vulnérabilité matérielle</td>\n",
       "      <td>hardware vulnerability</td>\n",
       "    </tr>\n",
       "    <tr>\n",
       "      <th>341</th>\n",
       "      <td>Web clandestin</td>\n",
       "      <td>dark Web</td>\n",
       "    </tr>\n",
       "    <tr>\n",
       "      <th>342</th>\n",
       "      <td>Wi-Fi</td>\n",
       "      <td>Wi-Fi</td>\n",
       "    </tr>\n",
       "    <tr>\n",
       "      <th>343</th>\n",
       "      <td>zone démilitarisée</td>\n",
       "      <td>demilitarized Zone (DMZ)</td>\n",
       "    </tr>\n",
       "  </tbody>\n",
       "</table>\n",
       "<p>344 rows × 2 columns</p>\n",
       "</div>"
      ],
      "text/plain": [
       "                           FR                              EN\n",
       "0       acceptation du risque                 risk acceptance\n",
       "1      accès aux identifiants               credential access\n",
       "2               accès initial                  initial access\n",
       "3                       actif                           asset\n",
       "4                  adresse IP  Internet Protocol (IP) address\n",
       "..                        ...                             ...\n",
       "339  vulnérabilité logicielle          software vulnerability\n",
       "340  vulnérabilité matérielle          hardware vulnerability\n",
       "341            Web clandestin                        dark Web\n",
       "342                     Wi-Fi                           Wi-Fi\n",
       "343        zone démilitarisée        demilitarized Zone (DMZ)\n",
       "\n",
       "[344 rows x 2 columns]"
      ]
     },
     "execution_count": 7,
     "metadata": {},
     "output_type": "execute_result"
    }
   ],
   "source": [
    "# Le dataframe en ordre alphabétique en français\n",
    "FR_EN_lexique_cyber"
   ]
  },
  {
   "cell_type": "markdown",
   "id": "b70482b1-7be9-4921-ab3b-d09ee42e35a9",
   "metadata": {},
   "source": [
    "<h3>Exemple d'une recherche pour \"nom d'utilisateur\"</h3>"
   ]
  },
  {
   "cell_type": "code",
   "execution_count": 8,
   "id": "b52963a2",
   "metadata": {},
   "outputs": [
    {
     "data": {
      "text/html": [
       "<div>\n",
       "<style scoped>\n",
       "    .dataframe tbody tr th:only-of-type {\n",
       "        vertical-align: middle;\n",
       "    }\n",
       "\n",
       "    .dataframe tbody tr th {\n",
       "        vertical-align: top;\n",
       "    }\n",
       "\n",
       "    .dataframe thead th {\n",
       "        text-align: right;\n",
       "    }\n",
       "</style>\n",
       "<table border=\"1\" class=\"dataframe\">\n",
       "  <thead>\n",
       "    <tr style=\"text-align: right;\">\n",
       "      <th></th>\n",
       "      <th>FR</th>\n",
       "      <th>EN</th>\n",
       "    </tr>\n",
       "  </thead>\n",
       "  <tbody>\n",
       "    <tr>\n",
       "      <th>205</th>\n",
       "      <td>nom d'utilisateur</td>\n",
       "      <td>user ID</td>\n",
       "    </tr>\n",
       "    <tr>\n",
       "      <th>206</th>\n",
       "      <td>nom d'utilisateur</td>\n",
       "      <td>username</td>\n",
       "    </tr>\n",
       "  </tbody>\n",
       "</table>\n",
       "</div>"
      ],
      "text/plain": [
       "                    FR        EN\n",
       "205  nom d'utilisateur   user ID\n",
       "206  nom d'utilisateur  username"
      ]
     },
     "execution_count": 8,
     "metadata": {},
     "output_type": "execute_result"
    }
   ],
   "source": [
    "# Insérez le terme entre les guillemets à la droite\n",
    "FR_EN_lexique_cyber.loc[FR_EN_lexique_cyber[\"FR\"] == \"nom d'utilisateur\"]"
   ]
  },
  {
   "cell_type": "markdown",
   "id": "711b17c0",
   "metadata": {},
   "source": [
    "<h2>References / Références</h2>"
   ]
  },
  {
   "cell_type": "markdown",
   "id": "4857b188-db76-4de9-8c28-366c588b9db3",
   "metadata": {},
   "source": [
    "<h4>Office québécois de la langue française</h4>"
   ]
  },
  {
   "cell_type": "markdown",
   "id": "9cce09c8",
   "metadata": {
    "jp-MarkdownHeadingCollapsed": true
   },
   "source": [
    "**Français**\n",
    "- Lorsque mes recherches dévoilaient deux ou plus traductions, je choisissais la recommandation de l'*Office québécois de la langue française*. Un Vocabulaire de la sécurité informatique avec plusieurs termes appartenant également à la cybersécurité est disponible __[ici](https://www.oqlf.gouv.qc.ca/ressources/bibliotheque/dictionnaires/vocabulaire-securite-informatique.aspx)__.\n",
    "\n",
    "\n",
    "- L'*Office* offre aussi une vitrine __[Vitrine linguistique](https://vitrinelinguistique.oqlf.gouv.qc.ca/)__ pour trouver d'autres termes et/ou ressources linguistiques.\n",
    "\n",
    "**English**\n",
    "- If my research uncovered two or more possible translations, I would go with the recommendations made by the *Office québécois de la langue française*. An information security glossary with many terms that overlap with cybersecurity can be found __[here](https://www.oqlf.gouv.qc.ca/ressources/bibliotheque/dictionnaires/vocabulaire-securite-informatique.aspx)__.\n",
    "\n",
    "\n",
    "- L'*Office* also has a tool called __[Vitrine linguistique](https://vitrinelinguistique.oqlf.gouv.qc.ca/)__ to find more terms and/or resources."
   ]
  },
  {
   "cell_type": "markdown",
   "id": "e671d609-1d32-465c-ba88-01aab04bab2f",
   "metadata": {},
   "source": [
    "<h4>Canadian Centre for Cyber Security</h4>"
   ]
  },
  {
   "cell_type": "markdown",
   "id": "e4caaf5b",
   "metadata": {
    "jp-MarkdownHeadingCollapsed": true
   },
   "source": [
    "**Français**\n",
    "- Si je ne retrouvais rien à l'*Office*, je choississais la ressource *Canadian Centre for Cyber Security*. Ce site web offre un glossaire en __[anglais](https://www.cyber.gc.ca/en/glossary)__ ainsi qu'un en __[français](https://www.cyber.gc.ca/fr/glossaire)__.\n",
    "\n",
    "**English**\n",
    "- In the absence of a recommendation from the *Office*, I would go with the *Canadian Centre for Cyber Security*. The site has a glossary in __[English](https://www.cyber.gc.ca/en/glossary)__ and one in __[French](https://www.cyber.gc.ca/fr/glossaire)__."
   ]
  },
  {
   "cell_type": "markdown",
   "id": "13a31e5a-a551-4a53-bdaa-27da7b0624dc",
   "metadata": {},
   "source": [
    "<h4>Termium</h4>"
   ]
  },
  {
   "cell_type": "markdown",
   "id": "7fb0b2ec-0cc6-4759-9ca9-c72a0b057972",
   "metadata": {},
   "source": [
    "**Français**\n",
    "- Ce site web est offert par le  __[Bureau de la traduction](https://www.canada.ca/fr/bureau-traduction.html)__.\n",
    "\n",
    "- Malgré qu'il n'ait pas de glossaire spécialisé en cybersécurité, j'ai réussis à trouver quelques termes pertinents dans leur __[Lexique sur les renseignements personnels et la protection de la vie privée](https://www.btb.termiumplus.gc.ca/publications/renseignements-personnels-personal-information-fra.html)__. Cette ressource est aussi disponible en __[anglais](https://www.btb.termiumplus.gc.ca/publications/renseignements-personnels-personal-information-eng.html)__.\n",
    "\n",
    "**English**\n",
    "\n",
    "- The site comes from the __[Translation Bureau](https://www.tpsgc-pwgsc.gc.ca/bt-tb/index-eng.html)__.\n",
    "\n",
    "- While there is no specific glossary for cybersecurity, I did find some relevant terms in the __[Personal Information and Privacy Glossary](https://www.btb.termiumplus.gc.ca/publications/renseignements-personnels-personal-information-eng.html)__. This is also available in __[French](https://www.btb.termiumplus.gc.ca/publications/renseignements-personnels-personal-information-fra.html)__."
   ]
  },
  {
   "cell_type": "markdown",
   "id": "5dd71ead-e6c1-4804-9b08-e0b1a590fadf",
   "metadata": {},
   "source": [
    "<h4>ISACA </h4>"
   ]
  },
  {
   "cell_type": "markdown",
   "id": "755c417f",
   "metadata": {},
   "source": [
    "**Français**\n",
    "- *Information Systems Audit and Control Association* (ISACA). Leur léxique __[ISACA Glossary](https://www.isaca.org/resources/glossary)__ s'avère à être une ressource très utile. \n",
    "\n",
    "- De plus, plusieurs glossaires se retrouvent sur le site internet ISACA (anglais-français, anglais-espagnol) qui fournissent des définitions de termes vous permettant de vous mettre à niveau.\n",
    "\n",
    "**English**\n",
    "- *Information Systems Audit and Control Association* (ISACA). Their __[ISACA Glossary](https://www.isaca.org/resources/glossary)__ is another handy resource. \n",
    "\n",
    "- Also on the website, there are several glossaries available from ISACA (English-French, English-Spanish) that provide definition of terms in case you need to brush up."
   ]
  },
  {
   "cell_type": "markdown",
   "id": "dfc02738-396b-4d91-9d8d-b1a3e5b10df9",
   "metadata": {},
   "source": [
    "<h4>IBM </h4>"
   ]
  },
  {
   "cell_type": "markdown",
   "id": "21da3cdf",
   "metadata": {
    "jp-MarkdownHeadingCollapsed": true
   },
   "source": [
    "**Français**\n",
    "- Une explication du cadre MITRE ATT&CK en français est disponible __[ici](https://www.ibm.com/fr-fr/topics/mitre-attack)__.\n",
    "\n",
    "**English**\n",
    "- An explanation of the MITRE ATT&CK framework in French is available __[here](https://www.ibm.com/fr-fr/topics/mitre-attack)__."
   ]
  },
  {
   "cell_type": "markdown",
   "id": "0f87e3c3-d967-4461-9070-14511bc2ee4a",
   "metadata": {},
   "source": [
    "<h4>ENISA</h4>"
   ]
  },
  {
   "cell_type": "markdown",
   "id": "a3ad3e98",
   "metadata": {},
   "source": [
    "**Français**\n",
    "- *Agence de l'Union européene pour la cybersécurité*, __[ENISA](https://european-union.europa.eu/index_fr)__. Ce site internet est disponible en 26 langues!\n",
    "\n",
    "**English**\n",
    "- The *European Union Agency for Cybersecurity*, __[ENISA](https://european-union.europa.eu/index_en)__. The website is available in 26 languages!"
   ]
  },
  {
   "cell_type": "markdown",
   "id": "2148de3c-43c9-4e04-bb69-93bc55a7c344",
   "metadata": {},
   "source": [
    "<h4>OTAN / NATO</h4>"
   ]
  },
  {
   "cell_type": "markdown",
   "id": "5f50bf41",
   "metadata": {
    "jp-MarkdownHeadingCollapsed": true
   },
   "source": [
    "**Français**\n",
    "- L'*Organisation du traité de l'Atlantique nord*, __[OTAN](https://www.nato.int/cps/fr/natohq/index.htm)__. Une section de leur site internet se dédie à la __[Cyberdéfense](https://www.nato.int/cps/en/natohq/topics_78170.htm?selectedLocale=fr)__,disponible en quatre langues (anglais, français, russe, ukrainien). \n",
    "\n",
    "**English**\n",
    "- The *North Atlantic Treaty Organization*, __[NATO](https://www.nato.int/)__. A section of their website is dedicated to __[Cyber defence](https://www.nato.int/cps/en/natohq/topics_78170.htm)__, available in four languages (English, French, Russian, Ukrainian)."
   ]
  },
  {
   "cell_type": "markdown",
   "id": "cf851f73-bdcc-4e35-bb3d-3d6970554457",
   "metadata": {},
   "source": [
    "<h4>NIST</h4>"
   ]
  },
  {
   "cell_type": "markdown",
   "id": "ea26ecf2",
   "metadata": {},
   "source": [
    "**Français**\n",
    "- *National Institute of Standards and Technology* (NIST). Le __[glossaire NIST](https://csrc.nist.gov/glossary)__ est une sommité dans le domaine de la cybersécurité. Malheureusement, cette page est seulement disponible en anglais. Par contre, revenez-y souvent car c'est une ressource incontournable.\n",
    "\n",
    "**English**\n",
    "- *National Institute of Standards and Technology* (NIST). The __[NIST glossary](https://csrc.nist.gov/glossary)__ is an authorative source in the cybersecurity field. Unfortunately, it is only in English. But do return to this page often as it really is an essential source of information."
   ]
  }
 ],
 "metadata": {
  "kernelspec": {
   "display_name": "Python 3 (ipykernel)",
   "language": "python",
   "name": "python3"
  },
  "language_info": {
   "codemirror_mode": {
    "name": "ipython",
    "version": 3
   },
   "file_extension": ".py",
   "mimetype": "text/x-python",
   "name": "python",
   "nbconvert_exporter": "python",
   "pygments_lexer": "ipython3",
   "version": "3.12.4"
  }
 },
 "nbformat": 4,
 "nbformat_minor": 5
}
